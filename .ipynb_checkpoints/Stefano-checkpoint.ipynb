{
 "cells": [
  {
   "cell_type": "code",
   "execution_count": 55,
   "metadata": {},
   "outputs": [],
   "source": [
    "# General libraries\n",
    "import os\n",
    "import numpy as np\n",
    "import pandas as pd \n",
    "import random\n",
    "import matplotlib.pyplot as plt\n",
    "%matplotlib inline\n",
    "import pathlib\n",
    "import os\n",
    "from PIL import Image\n",
    "import os\n",
    "from skimage import io\n",
    "from matplotlib import cm\n",
    "from mpl_toolkits.axes_grid1 import ImageGrid\n",
    "import math\n",
    "from sklearn.model_selection import train_test_split, cross_val_score\n",
    "from sklearn.preprocessing import OneHotEncoder\n",
    "from sklearn.metrics import accuracy_score, recall_score, confusion_matrix\n",
    "\n",
    "\n",
    "\n",
    "# Deep learning libraries\n",
    "import keras.backend as K\n",
    "from keras.models import Model, Sequential\n",
    "from keras.layers import Input, Dense, Flatten, Dropout, BatchNormalization\n",
    "from keras.layers import Conv2D, SeparableConv2D, MaxPool2D, LeakyReLU, Activation\n",
    "from keras.optimizers import Adam\n",
    "from keras.preprocessing.image import ImageDataGenerator\n",
    "from keras.callbacks import ModelCheckpoint, ReduceLROnPlateau, EarlyStopping\n",
    "import tensorflow as tf\n",
    "from tensorflow.keras import datasets, layers, models\n",
    "\n",
    "\n"
   ]
  },
  {
   "cell_type": "code",
   "execution_count": null,
   "metadata": {},
   "outputs": [],
   "source": []
  },
  {
   "cell_type": "code",
   "execution_count": 56,
   "metadata": {},
   "outputs": [],
   "source": [
    "train_image_binary = ImageDataGenerator(rescale=1/255, zoom_range=0.3, vertical_flip=True,validation_split=.2)\n",
    "test_image_binary = ImageDataGenerator(rescale=1/255)"
   ]
  },
  {
   "cell_type": "code",
   "execution_count": 57,
   "metadata": {},
   "outputs": [],
   "source": [
    "#Image generators for importing data and providing validation split for training\n",
    "train_image = ImageDataGenerator(rescale=1/255,\n",
    "                                 width_shift_range=0.05,\n",
    "                                 height_shift_range=0.05,\n",
    "                                 horizontal_flip=True,\n",
    "                                 shear_range=10,\n",
    "                                 brightness_range=[0.95,1.05],\n",
    "                                 validation_split=.2)\n",
    "\n",
    "#attempting to create validation data set without augmentations applied to the training set\n",
    "#random seed is set upon generation of the data, thus should prevent data leakage\n",
    "validation_image = ImageDataGenerator(rescale=1/255,\n",
    "                                     validation_split=.2)\n",
    "\n",
    "test_image = ImageDataGenerator(rescale=1/255)"
   ]
  },
  {
   "cell_type": "code",
   "execution_count": null,
   "metadata": {},
   "outputs": [],
   "source": []
  },
  {
   "cell_type": "code",
   "execution_count": null,
   "metadata": {},
   "outputs": [],
   "source": []
  },
  {
   "cell_type": "code",
   "execution_count": 58,
   "metadata": {},
   "outputs": [
    {
     "name": "stdout",
     "output_type": "stream",
     "text": [
      "Found 4499 images belonging to 2 classes.\n"
     ]
    }
   ],
   "source": [
    " train_gen_binary = train_image.flow_from_directory(\n",
    "    directory='chest_xray/train', \n",
    "    target_size=(128, 128),color_mode='grayscale',\n",
    "    batch_size=32, \n",
    "    class_mode='categorical', subset='training',interpolation=\"lanczos\",\n",
    "    shuffle=True)"
   ]
  },
  {
   "cell_type": "code",
   "execution_count": 59,
   "metadata": {},
   "outputs": [
    {
     "name": "stdout",
     "output_type": "stream",
     "text": [
      "Found 1123 images belonging to 2 classes.\n"
     ]
    }
   ],
   "source": [
    "val_gen_binary = train_image.flow_from_directory(\n",
    "    directory='chest_xray/train', \n",
    "    target_size=(128, 128),color_mode='grayscale',\n",
    "    batch_size=32, \n",
    "    class_mode='categorical', subset='validation',interpolation=\"lanczos\",\n",
    "    shuffle=True)"
   ]
  },
  {
   "cell_type": "code",
   "execution_count": 60,
   "metadata": {},
   "outputs": [
    {
     "name": "stdout",
     "output_type": "stream",
     "text": [
      "Found 624 images belonging to 2 classes.\n"
     ]
    }
   ],
   "source": [
    "test_gen = test_image.flow_from_directory(\n",
    "    directory='chest_xray/test', \n",
    "    target_size=(128, 128),color_mode='grayscale', \n",
    "    batch_size=32, \n",
    "    class_mode='categorical',interpolation=\"lanczos\",\n",
    "    shuffle=True)"
   ]
  },
  {
   "cell_type": "code",
   "execution_count": 61,
   "metadata": {},
   "outputs": [
    {
     "name": "stdout",
     "output_type": "stream",
     "text": [
      "Found 4499 images belonging to 2 classes.\n"
     ]
    }
   ],
   "source": [
    "#training data processing\n",
    "train_gen_multi = train_image.flow_from_directory(\n",
    "    directory='chest_xray/train', \n",
    "    target_size=(128, 128),color_mode='grayscale',\n",
    "    batch_size=32, \n",
    "    class_mode='categorical', subset='training', interpolation=\"lanczos\",\n",
    "    seed=42)"
   ]
  },
  {
   "cell_type": "code",
   "execution_count": 62,
   "metadata": {},
   "outputs": [
    {
     "name": "stdout",
     "output_type": "stream",
     "text": [
      "Found 1123 images belonging to 2 classes.\n"
     ]
    }
   ],
   "source": [
    "val_gen_multi = validation_image.flow_from_directory(\n",
    "    directory='chest_xray/train', \n",
    "    target_size=(128, 128),color_mode='grayscale',\n",
    "    batch_size=32, \n",
    "    class_mode='categorical', subset='validation', interpolation=\"lanczos\",\n",
    "    seed=42)"
   ]
  },
  {
   "cell_type": "code",
   "execution_count": null,
   "metadata": {},
   "outputs": [],
   "source": []
  },
  {
   "cell_type": "code",
   "execution_count": null,
   "metadata": {},
   "outputs": [],
   "source": [
    "print(train_gen_binary)\n",
    "print(len(train_gen_binary))\n"
   ]
  },
  {
   "cell_type": "code",
   "execution_count": null,
   "metadata": {},
   "outputs": [],
   "source": []
  },
  {
   "cell_type": "code",
   "execution_count": null,
   "metadata": {},
   "outputs": [],
   "source": [
    "train_gen_binary"
   ]
  },
  {
   "cell_type": "code",
   "execution_count": null,
   "metadata": {},
   "outputs": [],
   "source": []
  },
  {
   "cell_type": "code",
   "execution_count": null,
   "metadata": {},
   "outputs": [],
   "source": [
    "train_gen_binary[0]"
   ]
  },
  {
   "cell_type": "code",
   "execution_count": 46,
   "metadata": {},
   "outputs": [
    {
     "name": "stdout",
     "output_type": "stream",
     "text": [
      "x:  <class 'numpy.ndarray'>\n",
      "y:  <class 'numpy.ndarray'>\n",
      "x:  (32, 128, 128, 1)\n",
      "y:  (32, 2)\n"
     ]
    }
   ],
   "source": [
    "X,y = next(train_gen_binary)\n",
    "print('x: ',type(X))\n",
    "print('y: ',type(y))\n",
    "print('x: ',X.shape)\n",
    "print('y: ',y.shape)\n"
   ]
  },
  {
   "cell_type": "code",
   "execution_count": null,
   "metadata": {},
   "outputs": [],
   "source": []
  },
  {
   "cell_type": "code",
   "execution_count": null,
   "metadata": {},
   "outputs": [],
   "source": []
  },
  {
   "cell_type": "code",
   "execution_count": null,
   "metadata": {
    "scrolled": true
   },
   "outputs": [],
   "source": [
    "model_binary = models.Sequential()\n",
    "model_binary.add(layers.Conv2D(filters=10,\n",
    "                        kernel_size=(3, 3),\n",
    "                        activation='swish',\n",
    "                        input_shape=(128, 128, 1)))\n",
    "model_binary.add(layers.MaxPooling2D(pool_size=(2, 2)))\n",
    "model_binary.add(layers.Conv2D(64, (3, 3), activation='swish'))\n",
    "model_binary.add(layers.MaxPooling2D((2, 2)))\n",
    "model_binary.add(layers.Conv2D(32, (3, 3), activation='swish'))\n",
    "model_binary.add(layers.Flatten())\n",
    "model_binary.add(layers.Dense(16, activation='swish'))\n",
    "model_binary.add(layers.Dense(2, activation='sigmoid'))\n",
    "\n",
    "model_binary.compile(optimizer='adam',\n",
    "              loss='binary_crossentropy',\n",
    "              metrics=['accuracy'])\n",
    "\n",
    "results_binary = model_binary.fit(train_gen_binary,epochs=1, batch_size=32,validation_data=val_gen_binary)"
   ]
  },
  {
   "cell_type": "code",
   "execution_count": null,
   "metadata": {},
   "outputs": [],
   "source": []
  },
  {
   "cell_type": "code",
   "execution_count": null,
   "metadata": {},
   "outputs": [],
   "source": [
    "model_b_recall = models.Sequential()\n",
    "model_b_recall.add(layers.Conv2D(filters=10,\n",
    "                        kernel_size=(3, 3),\n",
    "                        activation='swish',\n",
    "                        input_shape=(128, 128, 1)))\n",
    "model_b_recall.add(layers.MaxPooling2D(pool_size=(2, 2)))\n",
    "model_b_recall.add(layers.Conv2D(64, (3, 3), activation='swish'))\n",
    "model_b_recall.add(layers.MaxPooling2D((2, 2)))\n",
    "model_b_recall.add(layers.Conv2D(32, (3, 3), activation='swish'))\n",
    "model_b_recall.add(layers.Flatten())\n",
    "model_b_recall.add(layers.Dense(16, activation='swish'))\n",
    "model_b_recall.add(layers.Dense(2, activation='sigmoid'))\n",
    "\n",
    "model_b_recall.compile(optimizer='adam',\n",
    "              loss='binary_crossentropy',\n",
    "              metrics=['recall'])\n",
    "\n",
    "results_binary_recall = model_binary.fit(train_gen_binary,epochs=1, validation_data=val_gen_binary)"
   ]
  },
  {
   "cell_type": "code",
   "execution_count": null,
   "metadata": {},
   "outputs": [],
   "source": []
  },
  {
   "cell_type": "code",
   "execution_count": null,
   "metadata": {},
   "outputs": [],
   "source": [
    "\n",
    "#Multi class model with 3 classes normal,p\n",
    "#Went too deep - trying new activation function in hidden layers\n",
    "model0 = models.Sequential()\n",
    "\n",
    "#input layer\n",
    "model0.add(layers.Conv2D(filters=16,\n",
    "                        kernel_size=(20, 20),\n",
    "                        activation='relu',\n",
    "                        input_shape=(128, 128, 1)))\n",
    "model0.add(layers.MaxPooling2D(pool_size=(2, 2)))\n",
    "\n",
    "#hidden layers\n",
    "model0.add(layers.Conv2D(32, (2, 2), activation='swish'))\n",
    "model0.add(layers.MaxPooling2D((2, 2)))\n",
    "model0.add(layers.Conv2D(32, (2, 2), activation='swish'))\n",
    "model0.add(layers.Flatten())\n",
    "model0.add(layers.Dense(64, activation='swish'))\n",
    "model0.add(layers.Dense(32, activation='swish'))\n",
    "model0.add(layers.Dense(16, activation='swish'))\n",
    "model0.add(layers.Dense(8, activation='swish'))\n",
    "\n",
    "#output layer\n",
    "model0.add(layers.Dense(3, activation='softmax'))\n",
    "\n",
    "#compile and compute\n",
    "model0.compile(optimizer='adam',\n",
    "              loss='categorical_crossentropy',\n",
    "              metrics=['accuracy', 'AUC'])\n",
    "#creating a save file for this model # comement out b/c lack of storage\n",
    "#model_checkpoint_callback = ModelCheckpoint(filepath=\"./Checkpoints\",\n",
    "                                           #save_weights_only=True,\n",
    "                                          # monitor='val_accuracy',\n",
    "                                           #mode='max',\n",
    "                                          # save_best_only=True)\n",
    "\n",
    "multi_class_model = model0.fit(train_gen_multi, epochs=1, validation_data=val_gen_multi)#, callbacks=model_checkpoint_callback)\n"
   ]
  },
  {
   "cell_type": "code",
   "execution_count": null,
   "metadata": {},
   "outputs": [],
   "source": []
  },
  {
   "cell_type": "code",
   "execution_count": null,
   "metadata": {},
   "outputs": [],
   "source": [
    "results_binary.__dict__"
   ]
  },
  {
   "cell_type": "code",
   "execution_count": null,
   "metadata": {},
   "outputs": [],
   "source": [
    "results_binary_recall.__dict__"
   ]
  },
  {
   "cell_type": "code",
   "execution_count": null,
   "metadata": {},
   "outputs": [],
   "source": [
    "multi_class_model.__dict__"
   ]
  },
  {
   "cell_type": "code",
   "execution_count": null,
   "metadata": {},
   "outputs": [],
   "source": []
  },
  {
   "cell_type": "code",
   "execution_count": null,
   "metadata": {},
   "outputs": [],
   "source": [
    "import seaborn as sns\n",
    "\n",
    "train_loss_binary = results_binary.history['loss']\n",
    "train_acc_binary = results_binary.history['accuracy']\n",
    "val_loss_binary = results_binary.history['val_loss']\n",
    "val_acc_binary = results_binary.history['val_accuracy']\n",
    "\n",
    "\n",
    "fig, (ax1, ax2) = plt.subplots(1, 2, figsize=(10, 5))\n",
    "sns.lineplot(x=results_binary.epoch, y=train_loss_binary, ax=ax1, label='train_loss')\n",
    "sns.lineplot(x=results_binary.epoch, y=train_acc_binary, ax=ax2, label='train_accuracy')\n",
    "\n",
    "sns.lineplot(x=results_binary.epoch, y=val_loss_binary, ax=ax1, label='val_loss')\n",
    "sns.lineplot(x=results_binary.epoch, y=val_acc_binary, ax=ax2, label='val_accuracy');"
   ]
  },
  {
   "cell_type": "code",
   "execution_count": null,
   "metadata": {},
   "outputs": [],
   "source": [
    "import seaborn as sns\n",
    "\n",
    "train_loss_binary_r = results_binary_recall.history['loss']\n",
    "train_recall_binary_r = results_binary_recall.history['recall']\n",
    "val_loss_binary_r = results_binary_recall.history['val_loss']\n",
    "val_recall_binary_r = results_binary_recall.history['val_recall']\n",
    "\n",
    "\n",
    "fig, (ax1, ax2) = plt.subplots(1, 2, figsize=(10, 5))\n",
    "sns.lineplot(x=results_binary_recall.epoch, y=train_loss_binary_r, ax=ax1, label='train_loss')\n",
    "sns.lineplot(x=results_binary_recall.epoch, y=train_acc_binary_r, ax=ax2, label='train_recall')\n",
    "\n",
    "sns.lineplot(x=results_binary_recall.epoch, y=val_loss_binary_r, ax=ax1, label='val_loss')\n",
    "sns.lineplot(x=results_binary_recall.epoch, y=val_acc_binary_r, ax=ax2, label='val_recall');"
   ]
  },
  {
   "cell_type": "code",
   "execution_count": null,
   "metadata": {},
   "outputs": [],
   "source": [
    "#import seaborn as sns\n",
    "\n",
    "train_loss_multi = multi_class_model.history['loss']\n",
    "train_acc_multi = multi_class_model.history['accuracy']\n",
    "val_loss_multi = multi_class_model.history['val_loss']\n",
    "val_acc_multi = multi_class_model.history['val_accuracy']\n",
    "\n",
    "\n",
    "fig, (ax1, ax2) = plt.subplots(1, 2, figsize=(10, 5))\n",
    "sns.lineplot(x=multi_class_model.epoch, y=train_loss_multi, ax=ax1, label='train_loss')\n",
    "sns.lineplot(x=multi_class_model.epoch, y=train_acc_multi, ax=ax2, label='train_accuracy')\n",
    "\n",
    "sns.lineplot(x=multi_class_model.epoch, y=val_loss_multi, ax=ax1, label='val_loss')\n",
    "sns.lineplot(x=multi_class_model.epoch, y=val_acc_multi, ax=ax2, label='val_accuracy');"
   ]
  },
  {
   "cell_type": "code",
   "execution_count": null,
   "metadata": {},
   "outputs": [],
   "source": []
  },
  {
   "cell_type": "code",
   "execution_count": 51,
   "metadata": {
    "collapsed": true
   },
   "outputs": [
    {
     "ename": "AttributeError",
     "evalue": "'History' object has no attribute 'evaluate'",
     "output_type": "error",
     "traceback": [
      "\u001b[1;31m---------------------------------------------------------------------------\u001b[0m",
      "\u001b[1;31mAttributeError\u001b[0m                            Traceback (most recent call last)",
      "\u001b[1;32m<ipython-input-51-1eff84e62a45>\u001b[0m in \u001b[0;36m<module>\u001b[1;34m\u001b[0m\n\u001b[1;32m----> 1\u001b[1;33m \u001b[0mtest_loss_recall\u001b[0m\u001b[1;33m,\u001b[0m \u001b[0mtest_acc_recall\u001b[0m \u001b[1;33m=\u001b[0m \u001b[0mresults_binary_recall\u001b[0m\u001b[1;33m.\u001b[0m\u001b[0mevaluate\u001b[0m\u001b[1;33m(\u001b[0m\u001b[0mtest_gen_binary\u001b[0m\u001b[1;33m[\u001b[0m\u001b[1;36m0\u001b[0m\u001b[1;33m]\u001b[0m\u001b[1;33m,\u001b[0m \u001b[0mtest_gen_binary\u001b[0m\u001b[1;33m[\u001b[0m\u001b[1;36m1\u001b[0m\u001b[1;33m]\u001b[0m\u001b[1;33m)\u001b[0m\u001b[1;33m\u001b[0m\u001b[1;33m\u001b[0m\u001b[0m\n\u001b[0m",
      "\u001b[1;31mAttributeError\u001b[0m: 'History' object has no attribute 'evaluate'"
     ]
    }
   ],
   "source": [
    "test_loss_recall, test_acc_recall = results_binary_recall.evaluate(test_gen[0], test_gen[1])"
   ]
  },
  {
   "cell_type": "code",
   "execution_count": 52,
   "metadata": {
    "collapsed": true
   },
   "outputs": [
    {
     "ename": "AttributeError",
     "evalue": "'History' object has no attribute 'evaluate'",
     "output_type": "error",
     "traceback": [
      "\u001b[1;31m---------------------------------------------------------------------------\u001b[0m",
      "\u001b[1;31mAttributeError\u001b[0m                            Traceback (most recent call last)",
      "\u001b[1;32m<ipython-input-52-eb30fabaa00a>\u001b[0m in \u001b[0;36m<module>\u001b[1;34m\u001b[0m\n\u001b[1;32m----> 1\u001b[1;33m \u001b[0mtest_loss_binary\u001b[0m\u001b[1;33m,\u001b[0m \u001b[0mtest_acc_binary\u001b[0m \u001b[1;33m=\u001b[0m \u001b[0mresults_binary\u001b[0m\u001b[1;33m.\u001b[0m\u001b[0mevaluate\u001b[0m\u001b[1;33m(\u001b[0m\u001b[0mtest_gen_binary\u001b[0m\u001b[1;33m[\u001b[0m\u001b[1;36m0\u001b[0m\u001b[1;33m]\u001b[0m\u001b[1;33m,\u001b[0m \u001b[0mtest_gen_binary\u001b[0m\u001b[1;33m[\u001b[0m\u001b[1;36m1\u001b[0m\u001b[1;33m]\u001b[0m\u001b[1;33m)\u001b[0m\u001b[1;33m\u001b[0m\u001b[1;33m\u001b[0m\u001b[0m\n\u001b[0m",
      "\u001b[1;31mAttributeError\u001b[0m: 'History' object has no attribute 'evaluate'"
     ]
    }
   ],
   "source": [
    "test_loss_binary, test_acc_binary = results_binary.evaluate(test_gen[0], test_gen[1])"
   ]
  },
  {
   "cell_type": "code",
   "execution_count": null,
   "metadata": {},
   "outputs": [],
   "source": [
    "test_loss_multi, test_acc_multi = multi_class_model.evaluate(test_gen[0], test_gen[1])"
   ]
  },
  {
   "cell_type": "code",
   "execution_count": null,
   "metadata": {},
   "outputs": [],
   "source": []
  },
  {
   "cell_type": "code",
   "execution_count": 50,
   "metadata": {
    "collapsed": true
   },
   "outputs": [
    {
     "ename": "AttributeError",
     "evalue": "'History' object has no attribute 'predict'",
     "output_type": "error",
     "traceback": [
      "\u001b[1;31m---------------------------------------------------------------------------\u001b[0m",
      "\u001b[1;31mAttributeError\u001b[0m                            Traceback (most recent call last)",
      "\u001b[1;32m<ipython-input-50-eef920d6a614>\u001b[0m in \u001b[0;36m<module>\u001b[1;34m\u001b[0m\n\u001b[1;32m----> 1\u001b[1;33m \u001b[0mresults_binary\u001b[0m\u001b[1;33m.\u001b[0m\u001b[0mpredict\u001b[0m\u001b[1;33m(\u001b[0m\u001b[0mtest_gen_binary\u001b[0m\u001b[1;33m[\u001b[0m\u001b[1;36m0\u001b[0m\u001b[1;33m]\u001b[0m\u001b[1;33m)\u001b[0m\u001b[1;33m\u001b[0m\u001b[1;33m\u001b[0m\u001b[0m\n\u001b[0m",
      "\u001b[1;31mAttributeError\u001b[0m: 'History' object has no attribute 'predict'"
     ]
    }
   ],
   "source": [
    "results_binary.predict(test_gen_binary[0])"
   ]
  },
  {
   "cell_type": "code",
   "execution_count": 48,
   "metadata": {
    "collapsed": true
   },
   "outputs": [
    {
     "ename": "AttributeError",
     "evalue": "'History' object has no attribute 'predict'",
     "output_type": "error",
     "traceback": [
      "\u001b[1;31m---------------------------------------------------------------------------\u001b[0m",
      "\u001b[1;31mAttributeError\u001b[0m                            Traceback (most recent call last)",
      "\u001b[1;32m<ipython-input-48-a1f8d0941696>\u001b[0m in \u001b[0;36m<module>\u001b[1;34m\u001b[0m\n\u001b[1;32m----> 1\u001b[1;33m \u001b[0mresults_binary_recall\u001b[0m\u001b[1;33m.\u001b[0m\u001b[0mpredict\u001b[0m\u001b[1;33m(\u001b[0m\u001b[0mtest_gen\u001b[0m\u001b[1;33m[\u001b[0m\u001b[1;36m0\u001b[0m\u001b[1;33m]\u001b[0m\u001b[1;33m)\u001b[0m\u001b[1;33m\u001b[0m\u001b[1;33m\u001b[0m\u001b[0m\n\u001b[0m",
      "\u001b[1;31mAttributeError\u001b[0m: 'History' object has no attribute 'predict'"
     ]
    }
   ],
   "source": [
    "results_binary_recall.predict(test_gen[0])"
   ]
  },
  {
   "cell_type": "code",
   "execution_count": null,
   "metadata": {},
   "outputs": [],
   "source": [
    "results_.predict(test_gen[0])"
   ]
  },
  {
   "cell_type": "code",
   "execution_count": null,
   "metadata": {},
   "outputs": [],
   "source": []
  },
  {
   "cell_type": "code",
   "execution_count": null,
   "metadata": {},
   "outputs": [],
   "source": [
    "print(test_acc_binary)"
   ]
  },
  {
   "cell_type": "code",
   "execution_count": null,
   "metadata": {},
   "outputs": [],
   "source": [
    "print(test_acc_recall)"
   ]
  },
  {
   "cell_type": "code",
   "execution_count": null,
   "metadata": {},
   "outputs": [],
   "source": [
    "print(test_acc_multi)"
   ]
  },
  {
   "cell_type": "code",
   "execution_count": 53,
   "metadata": {
    "collapsed": true
   },
   "outputs": [
    {
     "ename": "AttributeError",
     "evalue": "'History' object has no attribute 'summary'",
     "output_type": "error",
     "traceback": [
      "\u001b[1;31m---------------------------------------------------------------------------\u001b[0m",
      "\u001b[1;31mAttributeError\u001b[0m                            Traceback (most recent call last)",
      "\u001b[1;32m<ipython-input-53-9488704f81fc>\u001b[0m in \u001b[0;36m<module>\u001b[1;34m\u001b[0m\n\u001b[1;32m----> 1\u001b[1;33m \u001b[0mresults_binary\u001b[0m\u001b[1;33m.\u001b[0m\u001b[0msummary\u001b[0m\u001b[1;33m(\u001b[0m\u001b[1;33m)\u001b[0m\u001b[1;33m\u001b[0m\u001b[1;33m\u001b[0m\u001b[0m\n\u001b[0m",
      "\u001b[1;31mAttributeError\u001b[0m: 'History' object has no attribute 'summary'"
     ]
    }
   ],
   "source": [
    "results_binary.summary()"
   ]
  },
  {
   "cell_type": "code",
   "execution_count": 54,
   "metadata": {
    "collapsed": true
   },
   "outputs": [
    {
     "ename": "AttributeError",
     "evalue": "'History' object has no attribute 'summary'",
     "output_type": "error",
     "traceback": [
      "\u001b[1;31m---------------------------------------------------------------------------\u001b[0m",
      "\u001b[1;31mAttributeError\u001b[0m                            Traceback (most recent call last)",
      "\u001b[1;32m<ipython-input-54-1216f5443706>\u001b[0m in \u001b[0;36m<module>\u001b[1;34m\u001b[0m\n\u001b[1;32m----> 1\u001b[1;33m \u001b[0mresults_binary_recall\u001b[0m\u001b[1;33m.\u001b[0m\u001b[0msummary\u001b[0m\u001b[1;33m(\u001b[0m\u001b[1;33m)\u001b[0m\u001b[1;33m\u001b[0m\u001b[1;33m\u001b[0m\u001b[0m\n\u001b[0m",
      "\u001b[1;31mAttributeError\u001b[0m: 'History' object has no attribute 'summary'"
     ]
    }
   ],
   "source": [
    "results_binary_recall.summary()"
   ]
  },
  {
   "cell_type": "code",
   "execution_count": null,
   "metadata": {},
   "outputs": [],
   "source": [
    "multi_class_model.summary()"
   ]
  },
  {
   "cell_type": "code",
   "execution_count": null,
   "metadata": {},
   "outputs": [],
   "source": []
  },
  {
   "cell_type": "code",
   "execution_count": null,
   "metadata": {},
   "outputs": [],
   "source": [
    "results_binary.predict(test_gen[0]).sum()"
   ]
  },
  {
   "cell_type": "code",
   "execution_count": null,
   "metadata": {},
   "outputs": [],
   "source": [
    "results_binary_recall.predict(test_gen[0]).sum()"
   ]
  },
  {
   "cell_type": "code",
   "execution_count": null,
   "metadata": {},
   "outputs": [],
   "source": [
    "multi_class_model.predict(test_gen[0]).sum()"
   ]
  },
  {
   "cell_type": "code",
   "execution_count": null,
   "metadata": {},
   "outputs": [],
   "source": []
  },
  {
   "cell_type": "code",
   "execution_count": null,
   "metadata": {},
   "outputs": [],
   "source": [
    "np.argmax(results_binary.predict(test_gen[0]))"
   ]
  },
  {
   "cell_type": "code",
   "execution_count": null,
   "metadata": {},
   "outputs": [],
   "source": [
    "np.argmax(results_binary_recall.predict(test_gen[0]))"
   ]
  },
  {
   "cell_type": "code",
   "execution_count": null,
   "metadata": {},
   "outputs": [],
   "source": [
    "np.argmax(multi_class_model.predict(test_gen[0]))"
   ]
  },
  {
   "cell_type": "code",
   "execution_count": null,
   "metadata": {},
   "outputs": [],
   "source": []
  },
  {
   "cell_type": "code",
   "execution_count": null,
   "metadata": {},
   "outputs": [],
   "source": [
    "plt.imshow(test_gen[0]);"
   ]
  },
  {
   "cell_type": "code",
   "execution_count": null,
   "metadata": {},
   "outputs": [],
   "source": []
  },
  {
   "cell_type": "code",
   "execution_count": null,
   "metadata": {},
   "outputs": [],
   "source": []
  },
  {
   "cell_type": "code",
   "execution_count": null,
   "metadata": {},
   "outputs": [],
   "source": []
  },
  {
   "cell_type": "code",
   "execution_count": null,
   "metadata": {},
   "outputs": [],
   "source": []
  }
 ],
 "metadata": {
  "kernelspec": {
   "display_name": "learnEnv",
   "language": "python",
   "name": "learnenv"
  },
  "language_info": {
   "codemirror_mode": {
    "name": "ipython",
    "version": 3
   },
   "file_extension": ".py",
   "mimetype": "text/x-python",
   "name": "python",
   "nbconvert_exporter": "python",
   "pygments_lexer": "ipython3",
   "version": "3.8.5"
  }
 },
 "nbformat": 4,
 "nbformat_minor": 4
}
